{
  "cells": [
    {
      "cell_type": "markdown",
      "metadata": {
        "id": "view-in-github",
        "colab_type": "text"
      },
      "source": [
        "<a href=\"https://colab.research.google.com/github/sujivan96/CovidWebApp-Backend/blob/master/Snippets_Importing_libraries.ipynb\" target=\"_parent\"><img src=\"https://colab.research.google.com/assets/colab-badge.svg\" alt=\"Open In Colab\"/></a>"
      ]
    },
    {
      "cell_type": "code",
      "source": [
        "import requests\n",
        "import urllib\n",
        "import pandas as pd\n",
        "from requests_html import HTML\n",
        "from requests_html import HTMLSession\n",
        "\n",
        "def get_source(url):\n",
        "    \"\"\"Return the source code for the provided URL. \n",
        "\n",
        "    Args: \n",
        "        url (string): URL of the page to scrape.\n",
        "\n",
        "    Returns:\n",
        "        response (object): HTTP response object from requests_html. \n",
        "    \"\"\"\n",
        "\n",
        "    try:\n",
        "        session = HTMLSession()\n",
        "        response = session.get(url)\n",
        "        return response\n",
        "\n",
        "    except requests.exceptions.RequestException as e:\n",
        "        print(e)\n",
        "\n",
        "def scrape_google(query):\n",
        "\n",
        "    query = urllib.parse.quote_plus(query)\n",
        "    response = get_source(\"https://www.google.co.uk/search?q=\" + query)\n",
        "\n",
        "    links = list(response.html.absolute_links)\n",
        "    google_domains = ('https://www.google.')\n",
        "\n",
        "    for url in links[:]:\n",
        "        if url.startswith(google_domains):\n",
        "            links.remove(url)\n",
        "\n",
        "    return links\n",
        "\n",
        "scrape_google(\"tamil news\")"
      ],
      "metadata": {
        "colab": {
          "base_uri": "https://localhost:8080/"
        },
        "id": "SSVO6LwNLh86",
        "outputId": "da942c3e-a418-47f6-d0c0-37fd56eeebbd"
      },
      "execution_count": 15,
      "outputs": [
        {
          "output_type": "execute_result",
          "data": {
            "text/plain": [
              "['https://tamil.oneindia.com/',\n",
              " 'https://tamil.samayam.com/',\n",
              " 'https://tamil.news18.com/news/tamil-nadu/breaking-news-tamil-news-live-updates-today-november-29-tamil-nadu-flash-news-headlines-top-news-846695.html',\n",
              " 'https://www.vikatan.com/news',\n",
              " 'https://translate.google.co.uk/translate?hl=en&sl=ta&u=https://www.vikatan.com/news&prev=search&pto=aue',\n",
              " 'https://tamil.oneindia.com/news/chennai/',\n",
              " 'https://support.google.com/websearch/?p=ws_results_help&hl=en&fg=1',\n",
              " 'https://translate.google.co.uk/translate?hl=en&sl=ta&u=https://tamil.indianexpress.com/&prev=search&pto=aue',\n",
              " 'https://support.google.com/websearch/answer/181196?hl=en',\n",
              " 'https://tamil.news18.com/',\n",
              " 'https://translate.google.co.uk/translate?hl=en&sl=ta&u=https://tamil.samayam.com/latest-news/articlelist/48237907.cms&prev=search&pto=aue',\n",
              " 'https://translate.google.co.uk/translate?hl=en&sl=ta&u=https://tamil.news18.com/&prev=search&pto=aue',\n",
              " 'https://translate.google.co.uk/translate?hl=en&sl=ta&u=https://www.dinamalar.com/&prev=search&pto=aue',\n",
              " 'https://policies.google.com/terms?hl=en&fg=1',\n",
              " 'https://tamil.indianexpress.com/tamilnadu/tamil-news-today-live-mk-stalin-aathar-current-bill-549165/',\n",
              " 'https://tamil.oneindia.com/news/tamilnadu/',\n",
              " 'https://tamil.oneindia.com/news/india/',\n",
              " 'https://indianexpress.com/article/cities/chennai/news-live-updates-top-news-tamil-nadu-today-8293604/',\n",
              " 'https://tamil.indianexpress.com/',\n",
              " 'https://tamil.samayam.com/latest-news/articlelist/48237907.cms',\n",
              " 'https://policies.google.com/privacy?hl=en&fg=1',\n",
              " 'https://tamil.oneindia.com/news/',\n",
              " 'https://www.dinamalar.com/']"
            ]
          },
          "metadata": {},
          "execution_count": 15
        }
      ]
    }
  ],
  "metadata": {
    "colab": {
      "name": "Snippets: Importing libraries",
      "provenance": [],
      "include_colab_link": true
    },
    "kernelspec": {
      "display_name": "Python 3",
      "name": "python3"
    }
  },
  "nbformat": 4,
  "nbformat_minor": 0
}